{
  "nbformat": 4,
  "nbformat_minor": 0,
  "metadata": {
    "colab": {
      "name": "Untitled6.ipynb",
      "provenance": [],
      "authorship_tag": "ABX9TyNUMiar2D8oeERjT3ETwazt",
      "include_colab_link": true
    },
    "kernelspec": {
      "name": "python3",
      "display_name": "Python 3"
    },
    "language_info": {
      "name": "python"
    }
  },
  "cells": [
    {
      "cell_type": "markdown",
      "metadata": {
        "id": "view-in-github",
        "colab_type": "text"
      },
      "source": [
        "<a href=\"https://colab.research.google.com/github/ilker1997-69/Clarusway_indirilen/blob/main/Untitled6.ipynb\" target=\"_parent\"><img src=\"https://colab.research.google.com/assets/colab-badge.svg\" alt=\"Open In Colab\"/></a>"
      ]
    },
    {
      "cell_type": "code",
      "metadata": {
        "colab": {
          "base_uri": "https://localhost:8080/"
        },
        "id": "PaWVGFlVEpdH",
        "outputId": "2977fb2a-3c2e-408d-d203-6eb62780ffe9"
      },
      "source": [
        "\n",
        "k=[2,3,4]\n",
        "list(reversed(k))"
      ],
      "execution_count": null,
      "outputs": [
        {
          "output_type": "execute_result",
          "data": {
            "text/plain": [
              "[4, 3, 2]"
            ]
          },
          "metadata": {
            "tags": []
          },
          "execution_count": 1
        }
      ]
    },
    {
      "cell_type": "code",
      "metadata": {
        "colab": {
          "base_uri": "https://localhost:8080/",
          "height": 128
        },
        "id": "nPtBu9UIFZ17",
        "outputId": "9d95e993-8056-47be-b0ab-646388d4f2ab"
      },
      "source": [
        "def yeni_palindrome(sentence):\n",
        "  liste = []\n",
        "  for char in sentence:\n",
        "    if char != \"\" :\n",
        "      liste.append(char)\n",
        "  print(liste)\n",
        "  liste.reverse()\n",
        "  liste2 = liste\n",
        "  print(liste2)\n",
        "  liste.reverse()\n",
        "  a = liste\n",
        "  b = liste2\n",
        "  for i in a :\n",
        "     if i in a == i in b:\n",
        "print(\"'{}' is a palindrome\".format(word))\n",
        "  else:\n",
        "print(\"'{}' is not a palindrome\".format(word))\n",
        "\n",
        "# def yeni_palindrome2(yeni_palindrome(sentence)):\n",
        " #   if liste == liste2 :\n",
        " \n",
        "word = input(\"Palindrom kontrolü için lütfen bir kelime veya cümle girin :\")\n",
        "yeni_palindrome(word)\n",
        " #if yeni_palindrome(word):\n",
        "   # print(\"'{}' is a palindrome\".format(word))\n",
        "# else:\n",
        " #   print(\"'{}' is not a palindrome\".format(word))\n",
        " \n"
      ],
      "execution_count": null,
      "outputs": [
        {
          "output_type": "error",
          "ename": "IndentationError",
          "evalue": "ignored",
          "traceback": [
            "\u001b[0;36m  File \u001b[0;32m\"<ipython-input-67-4fbb10fe2d80>\"\u001b[0;36m, line \u001b[0;32m15\u001b[0m\n\u001b[0;31m    print(\"'{}' is a palindrome\".format(word))\u001b[0m\n\u001b[0m                                              ^\u001b[0m\n\u001b[0;31mIndentationError\u001b[0m\u001b[0;31m:\u001b[0m expected an indented block\n"
          ]
        }
      ]
    },
    {
      "cell_type": "code",
      "metadata": {
        "colab": {
          "base_uri": "https://localhost:8080/"
        },
        "id": "K4pkTOa4XRwe",
        "outputId": "0442de39-bed0-4878-a3e1-b8fd504a0513"
      },
      "source": [
        "metin = input('Metni Girin : \\n')\n",
        "ters=metin[::-1]\n",
        "print('Girilen metin = %s' % (metin))\n",
        "print('Girilen metnin tersi = %s' % (ters))\n",
        "if ters == metin:\n",
        "    print('Girilen metin palindrome')\n",
        "else:\n",
        "    print('Girilen metin palindrome değil.')"
      ],
      "execution_count": null,
      "outputs": [
        {
          "output_type": "stream",
          "text": [
            "Metni Girin : \n",
            "at sahibi gibi hasta\n",
            "Girilen metin = at sahibi gibi hasta\n",
            "Girilen metnin tersi = atsah ibig ibihas ta\n",
            "Girilen metin palindrome değil.\n"
          ],
          "name": "stdout"
        }
      ]
    },
    {
      "cell_type": "code",
      "metadata": {
        "colab": {
          "base_uri": "https://localhost:8080/",
          "height": 246
        },
        "id": "XuZsNHi1ZjOc",
        "outputId": "e7b66625-cd84-40dd-eada-b3cbc417df62"
      },
      "source": [
        "def yeni_palindrome(string):\n",
        "  liste = []\n",
        "  for i in string : \n",
        "    if i != \"\" :\n",
        "      liste.append(i)\n",
        "  \n",
        "  liste.reverse()\n",
        "  liste2 = liste\n",
        "  liste.reverse()\n",
        "\n",
        "word = input(\"bir kelime girin:\")\n",
        "yeni_palindrome(word)\n",
        "if liste == liste2 :\n",
        "  print(\"girdiğiniz değer bir palindrom'dur.\")\n",
        "else:\n",
        "  print(\"girdiğiniz değer bir palindrom değildir.\")\n",
        "  \n",
        "\n",
        "\n",
        "      "
      ],
      "execution_count": null,
      "outputs": [
        {
          "output_type": "stream",
          "text": [
            "bir kelime girin:takoz\n"
          ],
          "name": "stdout"
        },
        {
          "output_type": "error",
          "ename": "NameError",
          "evalue": "ignored",
          "traceback": [
            "\u001b[0;31m---------------------------------------------------------------------------\u001b[0m",
            "\u001b[0;31mNameError\u001b[0m                                 Traceback (most recent call last)",
            "\u001b[0;32m<ipython-input-63-e773cbcb7f3f>\u001b[0m in \u001b[0;36m<module>\u001b[0;34m()\u001b[0m\n\u001b[1;32m     11\u001b[0m \u001b[0mword\u001b[0m \u001b[0;34m=\u001b[0m \u001b[0minput\u001b[0m\u001b[0;34m(\u001b[0m\u001b[0;34m\"bir kelime girin:\"\u001b[0m\u001b[0;34m)\u001b[0m\u001b[0;34m\u001b[0m\u001b[0;34m\u001b[0m\u001b[0m\n\u001b[1;32m     12\u001b[0m \u001b[0myeni_palindrome\u001b[0m\u001b[0;34m(\u001b[0m\u001b[0mword\u001b[0m\u001b[0;34m)\u001b[0m\u001b[0;34m\u001b[0m\u001b[0;34m\u001b[0m\u001b[0m\n\u001b[0;32m---> 13\u001b[0;31m \u001b[0;32mif\u001b[0m \u001b[0mliste\u001b[0m \u001b[0;34m==\u001b[0m \u001b[0mliste2\u001b[0m \u001b[0;34m:\u001b[0m\u001b[0;34m\u001b[0m\u001b[0;34m\u001b[0m\u001b[0m\n\u001b[0m\u001b[1;32m     14\u001b[0m   \u001b[0mprint\u001b[0m\u001b[0;34m(\u001b[0m\u001b[0;34m\"girdiğiniz değer bir palindrom'dur.\"\u001b[0m\u001b[0;34m)\u001b[0m\u001b[0;34m\u001b[0m\u001b[0;34m\u001b[0m\u001b[0m\n\u001b[1;32m     15\u001b[0m \u001b[0;32melse\u001b[0m\u001b[0;34m:\u001b[0m\u001b[0;34m\u001b[0m\u001b[0;34m\u001b[0m\u001b[0m\n",
            "\u001b[0;31mNameError\u001b[0m: name 'liste' is not defined"
          ]
        }
      ]
    },
    {
      "cell_type": "code",
      "metadata": {
        "id": "Kxa-OZlQQUGE"
      },
      "source": [
        ""
      ],
      "execution_count": null,
      "outputs": []
    }
  ]
}