{
  "nbformat": 4,
  "nbformat_minor": 0,
  "metadata": {
    "colab": {
      "name": "Untitled13.ipynb",
      "provenance": [],
      "authorship_tag": "ABX9TyNICnGeA3ufD3xqmrPrRVzT",
      "include_colab_link": true
    },
    "kernelspec": {
      "name": "python3",
      "display_name": "Python 3"
    },
    "language_info": {
      "name": "python"
    }
  },
  "cells": [
    {
      "cell_type": "markdown",
      "metadata": {
        "id": "view-in-github",
        "colab_type": "text"
      },
      "source": [
        "<a href=\"https://colab.research.google.com/github/ilker1997-69/Clarusway_indirilen/blob/main/Untitled13.ipynb\" target=\"_parent\"><img src=\"https://colab.research.google.com/assets/colab-badge.svg\" alt=\"Open In Colab\"/></a>"
      ]
    },
    {
      "cell_type": "code",
      "metadata": {
        "colab": {
          "base_uri": "https://localhost:8080/"
        },
        "id": "ijBRhn4WERr1",
        "outputId": "c6e90d3e-b1ec-4691-f3f5-e6ce14a1d8cb"
      },
      "source": [
        "while True:\n",
        "  no_one = int(input(\"The first number please : \"))\n",
        "  no_two = int(input(\"The second number please : \"))\n",
        "  try:\n",
        "    division = no_one / no_two\n",
        "    print(\"The result of the division is : \", division)\n",
        "    break\n",
        "  except Exception as e:\n",
        "    print(\"Something went wrong...Try again.\")\n",
        "    print(\"Probably it is because of '{}' error\".format(e))\n",
        "    break"
      ],
      "execution_count": 29,
      "outputs": [
        {
          "output_type": "stream",
          "name": "stdout",
          "text": [
            "The first number please : 8\n",
            "The second number please : 4\n",
            "The result of the division is :  2.0\n"
          ]
        }
      ]
    },
    {
      "cell_type": "code",
      "metadata": {
        "colab": {
          "base_uri": "https://localhost:8080/"
        },
        "id": "9Ot2MxIMJCCp",
        "outputId": "6132c091-69f1-4f60-bc7c-36c91990ad82"
      },
      "source": [
        "try:\n",
        "  x = 2/0\n",
        "except ZeroDivisionError:\n",
        "  print('Attempt to divide by zero')\n",
        "except:\n",
        "  print('Something else went wrong')"
      ],
      "execution_count": 23,
      "outputs": [
        {
          "output_type": "stream",
          "name": "stdout",
          "text": [
            "Attempt to divide by zero\n"
          ]
        }
      ]
    }
  ]
}