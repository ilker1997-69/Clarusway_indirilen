{
  "nbformat": 4,
  "nbformat_minor": 0,
  "metadata": {
    "colab": {
      "name": "Untitled14.ipynb",
      "provenance": [],
      "authorship_tag": "ABX9TyPs2NBB2pbYZjMjujCNIwCK",
      "include_colab_link": true
    },
    "kernelspec": {
      "name": "python3",
      "display_name": "Python 3"
    },
    "language_info": {
      "name": "python"
    }
  },
  "cells": [
    {
      "cell_type": "markdown",
      "metadata": {
        "id": "view-in-github",
        "colab_type": "text"
      },
      "source": [
        "<a href=\"https://colab.research.google.com/github/ilker1997-69/Clarusway_indirilen/blob/main/Untitled14.ipynb\" target=\"_parent\"><img src=\"https://colab.research.google.com/assets/colab-badge.svg\" alt=\"Open In Colab\"/></a>"
      ]
    },
    {
      "cell_type": "code",
      "metadata": {
        "colab": {
          "base_uri": "https://localhost:8080/"
        },
        "id": "huoI8C7kfMiv",
        "outputId": "35a4dc7e-b8cb-4b2d-a06e-7c4453e0a401"
      },
      "source": [
        "word = {1:\"1\", 2:\"2\"}\n",
        "keys = word.keys()\n",
        "word_1 ={}\n",
        "word_1[3] = 1\n",
        "word_1[1] = 1\n",
        "word_1[\"ali\"] = 22\n",
        "string = \"bugün ayrılıktan önceki session\"\n",
        "word_dict = {}\n",
        "for n in string :\n",
        "  keys = word_dict.keys()\n",
        "  if n in word_dict :\n",
        "    word_dict[n] +=1\n",
        "  else :\n",
        "    word_dict[n] =1\n",
        "\n",
        "print(word_dict)\n",
        "\n"
      ],
      "execution_count": 5,
      "outputs": [
        {
          "output_type": "stream",
          "name": "stdout",
          "text": [
            "{'b': 1, 'u': 1, 'g': 1, 'ü': 1, 'n': 4, ' ': 3, 'a': 2, 'y': 1, 'r': 1, 'ı': 2, 'l': 1, 'k': 2, 't': 1, 'ö': 1, 'c': 1, 'e': 2, 'i': 2, 's': 3, 'o': 1}\n"
          ]
        }
      ]
    },
    {
      "cell_type": "code",
      "metadata": {
        "colab": {
          "base_uri": "https://localhost:8080/"
        },
        "id": "tHtZlnwjjhwE",
        "outputId": "b3b158a9-2424-4f72-c452-0ee736a6ea8c"
      },
      "source": [
        "tipler = [\"int\", \"str\", \"bool\", \"list\", \"tuple\", \"set\"]\n",
        "toplam = {}.fromkeys(tipler, 0)\n",
        "toplam"
      ],
      "execution_count": 13,
      "outputs": [
        {
          "output_type": "execute_result",
          "data": {
            "text/plain": [
              "{'bool': 0, 'int': 0, 'list': 0, 'set': 0, 'str': 0, 'tuple': 0}"
            ]
          },
          "metadata": {},
          "execution_count": 13
        }
      ]
    },
    {
      "cell_type": "code",
      "metadata": {
        "colab": {
          "base_uri": "https://localhost:8080/"
        },
        "id": "cm9dGDtXm8IS",
        "outputId": "e71be7e4-a6d9-41ca-c99d-5e21ba94a2ab"
      },
      "source": [
        "#obeb#\n",
        "def obeb(a, b) :\n",
        "  if b == 0:\n",
        "    return a\n",
        "  else :\n",
        "    return obeb(b, a % b)\n",
        "\n",
        "obeb(55,25)"
      ],
      "execution_count": 14,
      "outputs": [
        {
          "output_type": "execute_result",
          "data": {
            "text/plain": [
              "5"
            ]
          },
          "metadata": {},
          "execution_count": 14
        }
      ]
    },
    {
      "cell_type": "code",
      "metadata": {
        "colab": {
          "base_uri": "https://localhost:8080/"
        },
        "id": "s7AirQg9yZGP",
        "outputId": "1e16231a-1f46-42a4-8e97-07d45996f397"
      },
      "source": [
        "def facto(n) :\n",
        "\n",
        "  if n == 0 : return 1\n",
        "  else :\n",
        "    return n * facto(n-1)\n",
        "facto(5)"
      ],
      "execution_count": 17,
      "outputs": [
        {
          "output_type": "execute_result",
          "data": {
            "text/plain": [
              "120"
            ]
          },
          "metadata": {},
          "execution_count": 17
        }
      ]
    },
    {
      "cell_type": "code",
      "metadata": {
        "id": "m31guvHk5PWb"
      },
      "source": [
        "solution = [[]]\n",
        "for i in solution :\n",
        "  print(i)\n"
      ],
      "execution_count": null,
      "outputs": []
    },
    {
      "cell_type": "code",
      "metadata": {
        "colab": {
          "base_uri": "https://localhost:8080/"
        },
        "id": "DKlzc6236BLR",
        "outputId": "487986f2-da60-4b89-d785-051765046b76"
      },
      "source": [
        "solution = [[]]\n",
        "num = [1, 2, 3]\n",
        "num_set = set(num)\n",
        "set_bos_list = set([])\n",
        "# num_set  - set_bos_list #\n",
        "\n",
        "for index in range(len(num)) :\n",
        "  solution = [i + [j] for i in solution for j in num_set.difference(set(i))]\n",
        "  print(solution)"
      ],
      "execution_count": 24,
      "outputs": [
        {
          "output_type": "stream",
          "name": "stdout",
          "text": [
            "[[1], [2], [3]]\n",
            "[[1, 2], [1, 3], [2, 1], [2, 3], [3, 1], [3, 2]]\n",
            "[[1, 2, 3], [1, 3, 2], [2, 1, 3], [2, 3, 1], [3, 1, 2], [3, 2, 1]]\n"
          ]
        }
      ]
    }
  ]
}