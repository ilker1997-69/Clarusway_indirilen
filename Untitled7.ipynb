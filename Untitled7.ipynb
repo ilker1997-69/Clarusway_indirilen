{
  "nbformat": 4,
  "nbformat_minor": 0,
  "metadata": {
    "colab": {
      "name": "Untitled7.ipynb",
      "provenance": [],
      "collapsed_sections": [],
      "authorship_tag": "ABX9TyMTkseHILh5ssx9zsjCN2Qh",
      "include_colab_link": true
    },
    "kernelspec": {
      "name": "python3",
      "display_name": "Python 3"
    },
    "language_info": {
      "name": "python"
    }
  },
  "cells": [
    {
      "cell_type": "markdown",
      "metadata": {
        "id": "view-in-github",
        "colab_type": "text"
      },
      "source": [
        "<a href=\"https://colab.research.google.com/github/ilker1997-69/Clarusway_indirilen/blob/main/Untitled7.ipynb\" target=\"_parent\"><img src=\"https://colab.research.google.com/assets/colab-badge.svg\" alt=\"Open In Colab\"/></a>"
      ]
    },
    {
      "cell_type": "code",
      "metadata": {
        "colab": {
          "base_uri": "https://localhost:8080/"
        },
        "id": "Kjd1b8VeP9Uz",
        "outputId": "d4da8771-42cd-4b7f-8ce7-8564a8ba22e5"
      },
      "source": [
        "def modular_function(n):\n",
        "  return lambda x: x ** n\n",
        "\n",
        "power_of_2 = modular_function(2)\n",
        "power_of_3 = modular_function(3)\n",
        "power_of_4 = modular_function(4)\n",
        "\n",
        "print(power_of_2(2))\n",
        "print(power_of_3(3))\n",
        "print(power_of_4(4))"
      ],
      "execution_count": 2,
      "outputs": [
        {
          "output_type": "stream",
          "text": [
            "4\n",
            "27\n",
            "256\n"
          ],
          "name": "stdout"
        }
      ]
    },
    {
      "cell_type": "code",
      "metadata": {
        "colab": {
          "base_uri": "https://localhost:8080/",
          "height": 52
        },
        "id": "xZfwQsUgRtIz",
        "outputId": "e6b72afa-bfab-4f75-9983-30e2a5c2a266"
      },
      "source": [
        "def repeater(n) :\n",
        "  return lambda x : x * n\n",
        "\n",
        "repeat_5 = repeater(5)\n",
        "repeat_5(\"sizi çok özledim.\")"
      ],
      "execution_count": 4,
      "outputs": [
        {
          "output_type": "execute_result",
          "data": {
            "application/vnd.google.colaboratory.intrinsic+json": {
              "type": "string"
            },
            "text/plain": [
              "'sizi çok özledim.sizi çok özledim.sizi çok özledim.sizi çok özledim.sizi çok özledim.'"
            ]
          },
          "metadata": {},
          "execution_count": 4
        }
      ]
    },
    {
      "cell_type": "code",
      "metadata": {
        "colab": {
          "base_uri": "https://localhost:8080/"
        },
        "id": "SMWv0kZ_S8Uo",
        "outputId": "14354d31-eeec-4c39-84db-9be342361202"
      },
      "source": [
        "def functioner(emoji) :\n",
        "  return lambda message : print(message, emoji)\n",
        "\n",
        "smile_print = functioner(\":)\")\n",
        "sad_print = functioner(\":(\")\n",
        "smile_print(1)\n",
        "sad_print([1,\"1\", False])"
      ],
      "execution_count": 6,
      "outputs": [
        {
          "output_type": "stream",
          "text": [
            "1 :)\n",
            "[1, '1', False] :(\n"
          ],
          "name": "stdout"
        }
      ]
    },
    {
      "cell_type": "code",
      "metadata": {
        "colab": {
          "base_uri": "https://localhost:8080/"
        },
        "id": "ZyfuhIqYW5wU",
        "outputId": "f72a348d-eac7-48e2-c342-3eb41fbfaba5"
      },
      "source": [
        "def x() :\n",
        "  return 1, 2, 3, 4\n",
        "\n",
        "type(x())\n",
        "tuple\n",
        "\n",
        "for i in x() :\n",
        "  print(i)\n"
      ],
      "execution_count": 8,
      "outputs": [
        {
          "output_type": "stream",
          "text": [
            "1\n",
            "2\n",
            "3\n",
            "4\n"
          ],
          "name": "stdout"
        }
      ]
    },
    {
      "cell_type": "code",
      "metadata": {
        "colab": {
          "base_uri": "https://localhost:8080/"
        },
        "id": "hqNyzyNcX0xu",
        "outputId": "9ec00e73-1520-4c0b-bb19-e7cabdc81469"
      },
      "source": [
        "num = [1, 4, 4]\n",
        "max(num, key = num.count)\n",
        "# önemli tekrar çalış"
      ],
      "execution_count": 9,
      "outputs": [
        {
          "output_type": "execute_result",
          "data": {
            "text/plain": [
              "4"
            ]
          },
          "metadata": {},
          "execution_count": 9
        }
      ]
    },
    {
      "cell_type": "code",
      "metadata": {
        "colab": {
          "base_uri": "https://localhost:8080/"
        },
        "id": "kPEr00gUcdit",
        "outputId": "9aaa8533-ccb8-4556-f5e6-52ec51db0d18"
      },
      "source": [
        "def equal(a, b, c) :\n",
        "  numbers = [a, b, c]\n",
        "\n",
        "  result = numbers.count(max(numbers, key = numbers.count))\n",
        "\n",
        "  if result > 1 :\n",
        "    return result\n",
        "  else :\n",
        "    return 0\n",
        "\n",
        "equal(1, 1, 1)"
      ],
      "execution_count": 33,
      "outputs": [
        {
          "output_type": "execute_result",
          "data": {
            "text/plain": [
              "3"
            ]
          },
          "metadata": {},
          "execution_count": 33
        }
      ]
    },
    {
      "cell_type": "code",
      "metadata": {
        "colab": {
          "base_uri": "https://localhost:8080/"
        },
        "id": "1hdl4DZxei08",
        "outputId": "a08319df-377f-44b9-b601-080afb928b15"
      },
      "source": [
        "def equall(* arg) :\n",
        "  numbers = list(arg)\n",
        "\n",
        "  res = numbers.count(max(numbers, key = numbers.count))\n",
        "\n",
        "  if res > 1 :\n",
        "    return res\n",
        "  else :\n",
        "    return 0\n",
        "\n",
        "equall(1, 1, 2, 2, 2, 3)\n"
      ],
      "execution_count": 30,
      "outputs": [
        {
          "output_type": "execute_result",
          "data": {
            "text/plain": [
              "3"
            ]
          },
          "metadata": {},
          "execution_count": 30
        }
      ]
    },
    {
      "cell_type": "code",
      "metadata": {
        "id": "9gkTQKoNjb30"
      },
      "source": [
        ""
      ],
      "execution_count": null,
      "outputs": []
    },
    {
      "cell_type": "code",
      "metadata": {
        "id": "ysHA80JsexOi",
        "colab": {
          "base_uri": "https://localhost:8080/",
          "height": 162
        },
        "outputId": "bd98fb71-910f-47d2-f90f-acf62578e04c"
      },
      "source": [
        "equalabmda = lambda x, y, z : [x, y, z].count(max([x, y, z], key = [x, y, z].count))\n",
        "# res if res > 1 else 0\n",
        "\n",
        "\n",
        "equalabmda = lambda x, y, z : [x, y, z].count(max([x, y, z], key = [x, y, z].count))\\ if [x, y, z].count(max([x, y, z], key = [x, y, z].count) > 1 else 0\n",
        "                                                                                                         \n",
        " equalabmda(1, 1, 1, 2, 3, 4, 4)                                                                                                       "
      ],
      "execution_count": 39,
      "outputs": [
        {
          "output_type": "error",
          "ename": "SyntaxError",
          "evalue": "ignored",
          "traceback": [
            "\u001b[0;36m  File \u001b[0;32m\"<ipython-input-39-70279a354c5f>\"\u001b[0;36m, line \u001b[0;32m5\u001b[0m\n\u001b[0;31m    equalabmda = lambda x, y, z : [x, y, z].count(max([x, y, z], key = [x, y, z].count))\\ if [x, y, z].count(max([x, y, z], key = [x, y, z].count) > 1 else 0\u001b[0m\n\u001b[0m                                                                                                                                                             ^\u001b[0m\n\u001b[0;31mSyntaxError\u001b[0m\u001b[0;31m:\u001b[0m unexpected character after line continuation character\n"
          ]
        }
      ]
    },
    {
      "cell_type": "code",
      "metadata": {
        "id": "abvI2685pqEE"
      },
      "source": [
        ""
      ],
      "execution_count": null,
      "outputs": []
    },
    {
      "cell_type": "code",
      "metadata": {
        "id": "9fBgBXzIjq93"
      },
      "source": [
        "equalabmda = lambda *x : list(x).count(max(list(x), key = list(x).count)) if list(x).count(max(list(x), key = list(x).count) > 1 else 0\n",
        "\n",
        "equalabmda(1, 2, 2, 2, 4, 4)"
      ],
      "execution_count": null,
      "outputs": []
    },
    {
      "cell_type": "code",
      "metadata": {
        "colab": {
          "base_uri": "https://localhost:8080/",
          "height": 35
        },
        "id": "BEFI5clZj6mN",
        "outputId": "aaf115ca-018f-4398-9ab0-336c3a538253"
      },
      "source": [
        "import math\n",
        "\n",
        "import string\n",
        "\n",
        "string.digits\n"
      ],
      "execution_count": 43,
      "outputs": [
        {
          "output_type": "execute_result",
          "data": {
            "application/vnd.google.colaboratory.intrinsic+json": {
              "type": "string"
            },
            "text/plain": [
              "'0123456789'"
            ]
          },
          "metadata": {},
          "execution_count": 43
        }
      ]
    },
    {
      "cell_type": "code",
      "metadata": {
        "colab": {
          "base_uri": "https://localhost:8080/"
        },
        "id": "eyQyf5Mm0kYd",
        "outputId": "e2ee084b-5f4c-4c9b-ffd6-a13862d22514"
      },
      "source": [
        "import datetime\n",
        "print(datetime.date.today())\n",
        "print(datetime.datetime.now())"
      ],
      "execution_count": 46,
      "outputs": [
        {
          "output_type": "stream",
          "text": [
            "2021-08-18\n",
            "2021-08-18 19:55:30.552461\n"
          ],
          "name": "stdout"
        }
      ]
    }
  ]
}