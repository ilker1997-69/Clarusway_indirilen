{
  "nbformat": 4,
  "nbformat_minor": 0,
  "metadata": {
    "colab": {
      "name": "Untitled10.ipynb",
      "provenance": [],
      "collapsed_sections": [],
      "authorship_tag": "ABX9TyMTtcnIjlFMj5hl0mH85wQg",
      "include_colab_link": true
    },
    "kernelspec": {
      "name": "python3",
      "display_name": "Python 3"
    },
    "language_info": {
      "name": "python"
    }
  },
  "cells": [
    {
      "cell_type": "markdown",
      "metadata": {
        "id": "view-in-github",
        "colab_type": "text"
      },
      "source": [
        "<a href=\"https://colab.research.google.com/github/ilker1997-69/Clarusway_indirilen/blob/main/Untitled10.ipynb\" target=\"_parent\"><img src=\"https://colab.research.google.com/assets/colab-badge.svg\" alt=\"Open In Colab\"/></a>"
      ]
    },
    {
      "cell_type": "code",
      "metadata": {
        "colab": {
          "base_uri": "https://localhost:8080/",
          "height": 35
        },
        "id": "dA_oysOhAmu3",
        "outputId": "34efd9b2-ff02-4561-83b3-0c7de77c379b"
      },
      "source": [
        "import random\n",
        "chr(68)"
      ],
      "execution_count": null,
      "outputs": [
        {
          "output_type": "execute_result",
          "data": {
            "application/vnd.google.colaboratory.intrinsic+json": {
              "type": "string"
            },
            "text/plain": [
              "'D'"
            ]
          },
          "metadata": {},
          "execution_count": 1
        }
      ]
    },
    {
      "cell_type": "code",
      "metadata": {
        "id": "x-wvernKBQRI"
      },
      "source": [
        "random.randint(1, 10)"
      ],
      "execution_count": null,
      "outputs": []
    },
    {
      "cell_type": "code",
      "metadata": {
        "colab": {
          "base_uri": "https://localhost:8080/",
          "height": 35
        },
        "id": "URwAeShABp-f",
        "outputId": "981d75b0-b08d-4d29-d8a8-611091350487"
      },
      "source": [
        "chr(random.randint(65, 90))"
      ],
      "execution_count": null,
      "outputs": [
        {
          "output_type": "execute_result",
          "data": {
            "application/vnd.google.colaboratory.intrinsic+json": {
              "type": "string"
            },
            "text/plain": [
              "'S'"
            ]
          },
          "metadata": {},
          "execution_count": 2
        }
      ]
    },
    {
      "cell_type": "code",
      "metadata": {
        "colab": {
          "base_uri": "https://localhost:8080/",
          "height": 35
        },
        "id": "FkBt9JWdB04U",
        "outputId": "f3c9f012-a5c8-40b8-cbfb-4482bd62b938"
      },
      "source": [
        "uppers = [chr(random.randint(65, 90)) for i in range(3)]\n",
        "uppers\n",
        "\"\".join(uppers)"
      ],
      "execution_count": null,
      "outputs": [
        {
          "output_type": "execute_result",
          "data": {
            "application/vnd.google.colaboratory.intrinsic+json": {
              "type": "string"
            },
            "text/plain": [
              "'H-S-J'"
            ]
          },
          "metadata": {},
          "execution_count": 4
        }
      ]
    },
    {
      "cell_type": "code",
      "metadata": {
        "colab": {
          "base_uri": "https://localhost:8080/"
        },
        "id": "tH0ol-yVCoXC",
        "outputId": "357ee0e8-01d9-49f8-ef4e-8595e00e1633"
      },
      "source": [
        "lowers = [chr(random.randint(97, 122)) for i in range(3)]\n",
        "lowers\n"
      ],
      "execution_count": null,
      "outputs": [
        {
          "output_type": "execute_result",
          "data": {
            "text/plain": [
              "['y', 'q', 'j']"
            ]
          },
          "metadata": {},
          "execution_count": 5
        }
      ]
    },
    {
      "cell_type": "code",
      "metadata": {
        "colab": {
          "base_uri": "https://localhost:8080/"
        },
        "id": "RlnttYbTC9a9",
        "outputId": "c4976ef2-d334-4613-ac81-c4c7ff839160"
      },
      "source": [
        "numbers = [chr(random.randint(48, 57)) for i in range(3)]\n",
        "numbers\n"
      ],
      "execution_count": null,
      "outputs": [
        {
          "output_type": "execute_result",
          "data": {
            "text/plain": [
              "['8', '4', '5']"
            ]
          },
          "metadata": {},
          "execution_count": 6
        }
      ]
    },
    {
      "cell_type": "code",
      "metadata": {
        "colab": {
          "base_uri": "https://localhost:8080/"
        },
        "id": "NYIv5UOFDQOB",
        "outputId": "9fbbb8ee-488f-4fd7-fd05-eb7aae6d592f"
      },
      "source": [
        "chars = [chr(random.randint(33, 47)) + chr(random.randint(58, 64))]\n",
        "chars"
      ],
      "execution_count": null,
      "outputs": [
        {
          "output_type": "execute_result",
          "data": {
            "text/plain": [
              "['-;']"
            ]
          },
          "metadata": {},
          "execution_count": 7
        }
      ]
    },
    {
      "cell_type": "code",
      "metadata": {
        "colab": {
          "base_uri": "https://localhost:8080/",
          "height": 35
        },
        "id": "rrtx_JWDEBC1",
        "outputId": "5974043e-6aa3-4241-80cf-809b3077f75f"
      },
      "source": [
        "word = \"\".join(uppers) + \"\".join(lowers) + \"\".join(numbers) + \"\".join(chars)\n",
        "word\n"
      ],
      "execution_count": null,
      "outputs": [
        {
          "output_type": "execute_result",
          "data": {
            "application/vnd.google.colaboratory.intrinsic+json": {
              "type": "string"
            },
            "text/plain": [
              "'HSJyqj845-;'"
            ]
          },
          "metadata": {},
          "execution_count": 14
        }
      ]
    },
    {
      "cell_type": "code",
      "metadata": {
        "colab": {
          "base_uri": "https://localhost:8080/"
        },
        "id": "C6Z1KxAEFQ1b",
        "outputId": "848071c9-5eeb-48af-e752-b4fbd475418b"
      },
      "source": [
        "random.shuffle(uppers)\n",
        "uppers"
      ],
      "execution_count": null,
      "outputs": [
        {
          "output_type": "execute_result",
          "data": {
            "text/plain": [
              "['H', 'S', 'J']"
            ]
          },
          "metadata": {},
          "execution_count": 15
        }
      ]
    },
    {
      "cell_type": "code",
      "metadata": {
        "id": "NgXe7vARElwD"
      },
      "source": [
        "def shuffleit(string) :\n",
        "    templist = list(string)\n",
        "    random.shuffle(templist)\n",
        "    return \"\".join(templist)\n",
        "  \n",
        "passw = shuffleit(password)\n",
        "passw"
      ],
      "execution_count": null,
      "outputs": []
    },
    {
      "cell_type": "code",
      "metadata": {
        "colab": {
          "base_uri": "https://localhost:8080/"
        },
        "id": "_kP71EfaGlpi",
        "outputId": "6b16e269-eb5e-44c4-8cdb-ce27c07ee979"
      },
      "source": [
        "from timeit import timeit\n",
        "def for_loop() :\n",
        "    result = []\n",
        "\n",
        "    for i in range(1000000) :\n",
        "      result.append(i)\n",
        "    return result\n",
        "\n",
        "def list_comprehension() :\n",
        "    return [i for i in range(1000000)]\n",
        "\n",
        "time1 = timeit(for_loop, number = 1000)\n",
        "time2 = timeit(list_comprehension, number = 1000)\n",
        "\n",
        "print(f\"List Comprehension is {round(time1/time2, 2)} times faster than for_loop\") "
      ],
      "execution_count": null,
      "outputs": [
        {
          "output_type": "stream",
          "text": [
            "List Comprehension is 1.73 times faster than for_loop\n"
          ],
          "name": "stdout"
        }
      ]
    },
    {
      "cell_type": "code",
      "metadata": {
        "colab": {
          "base_uri": "https://localhost:8080/",
          "height": 128
        },
        "id": "sVkfwqChMZPB",
        "outputId": "04273ad6-dece-4f3f-cefa-2817f1be723a"
      },
      "source": [
        "timeit(for_loop, number = 1000)"
      ],
      "execution_count": null,
      "outputs": [
        {
          "output_type": "error",
          "ename": "SyntaxError",
          "evalue": "ignored",
          "traceback": [
            "\u001b[0;36m  File \u001b[0;32m\"<unknown>\"\u001b[0;36m, line \u001b[0;32m1\u001b[0m\n\u001b[0;31m    (for_loop, number = 1000)\u001b[0m\n\u001b[0m                      ^\u001b[0m\n\u001b[0;31mSyntaxError\u001b[0m\u001b[0;31m:\u001b[0m invalid syntax\n"
          ]
        }
      ]
    }
  ]
}