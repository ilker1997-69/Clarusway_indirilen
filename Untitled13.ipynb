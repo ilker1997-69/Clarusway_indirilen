{
  "nbformat": 4,
  "nbformat_minor": 0,
  "metadata": {
    "colab": {
      "name": "Untitled13.ipynb",
      "provenance": [],
      "authorship_tag": "ABX9TyNJxXupwHmtR/1mv0PZyYeu",
      "include_colab_link": true
    },
    "kernelspec": {
      "name": "python3",
      "display_name": "Python 3"
    },
    "language_info": {
      "name": "python"
    }
  },
  "cells": [
    {
      "cell_type": "markdown",
      "metadata": {
        "id": "view-in-github",
        "colab_type": "text"
      },
      "source": [
        "<a href=\"https://colab.research.google.com/github/ilker1997-69/Clarusway_indirilen/blob/main/Untitled13.ipynb\" target=\"_parent\"><img src=\"https://colab.research.google.com/assets/colab-badge.svg\" alt=\"Open In Colab\"/></a>"
      ]
    },
    {
      "cell_type": "code",
      "metadata": {
        "colab": {
          "base_uri": "https://localhost:8080/"
        },
        "id": "ijBRhn4WERr1",
        "outputId": "c6e90d3e-b1ec-4691-f3f5-e6ce14a1d8cb"
      },
      "source": [
        "while True:\n",
        "  no_one = int(input(\"The first number please : \"))\n",
        "  no_two = int(input(\"The second number please : \"))\n",
        "  try:\n",
        "    division = no_one / no_two\n",
        "    print(\"The result of the division is : \", division)\n",
        "    break\n",
        "  except Exception as e:\n",
        "    print(\"Something went wrong...Try again.\")\n",
        "    print(\"Probably it is because of '{}' error\".format(e))\n",
        "    break"
      ],
      "execution_count": null,
      "outputs": [
        {
          "output_type": "stream",
          "name": "stdout",
          "text": [
            "The first number please : 8\n",
            "The second number please : 4\n",
            "The result of the division is :  2.0\n"
          ]
        }
      ]
    },
    {
      "cell_type": "code",
      "metadata": {
        "colab": {
          "base_uri": "https://localhost:8080/"
        },
        "id": "9Ot2MxIMJCCp",
        "outputId": "1bba52b8-ce37-427e-af00-94e7c5677e0a"
      },
      "source": [
        "try:\n",
        "  x = 2/0\n",
        "except ZeroDivisionError:\n",
        "  print('Attempt to divide by zero')\n",
        "except:\n",
        "  print('Something else went wrong')"
      ],
      "execution_count": null,
      "outputs": [
        {
          "output_type": "stream",
          "name": "stdout",
          "text": [
            "Attempt to divide by zero\n"
          ]
        }
      ]
    },
    {
      "cell_type": "code",
      "metadata": {
        "colab": {
          "base_uri": "https://localhost:8080/"
        },
        "id": "8b7twbS_PXr1",
        "outputId": "96f8f392-d8aa-428e-9f41-35c3cb1cee57"
      },
      "source": [
        "fruits = [\"banana\", \"mango\", \"pear\", \"apple\", \"kivi\", \"grape\"]\n",
        "\n",
        "while True :\n",
        "\n",
        "  try :\n",
        "    index = int(input(\"en sevdiğini meyvenin idex numarısını gir :\"))\n",
        "    print(\"Favori meyveniz : \", fruits[index])\n",
        "    break\n",
        "  except IndexError :\n",
        "    print(\"There is no such an Index. Try again!\")\n",
        "\n",
        "  except ValueError :\n",
        "    print(\"You should enter integer.Try again!\")"
      ],
      "execution_count": null,
      "outputs": [
        {
          "output_type": "stream",
          "name": "stdout",
          "text": [
            "en sevdiğini meyvenin idex numarısını gir :4\n",
            "Favori meyveniz :  kivi\n"
          ]
        }
      ]
    },
    {
      "cell_type": "code",
      "metadata": {
        "id": "mGmhkto_SKSc"
      },
      "source": [
        "count = 3\n",
        "\n",
        "while count > 0 :\n",
        "\n",
        "  try :\n",
        "    index = int(input(\"en sevdiğini meyvenin idex numarısını gir :\"))\n",
        "    print(\"Favori meyveniz : \", fruits[index])\n",
        "    break\n",
        "  except IndexError :\n",
        "    count -= 1\n",
        "    print(f\"There is no such an Index. You have {count} tries remaning. Try again!\")\n",
        "\n",
        "  except ValueError :\n",
        "    count -= 1\n",
        "    print(\"You should enter integer.Try again!\")\n",
        "\n",
        "  else :\n",
        "    print(\"congrats! you have entered a valid input.\")\n",
        "    break\n",
        "  finally :\n",
        "    print(\"our fruits are always fresh\")"
      ],
      "execution_count": null,
      "outputs": []
    },
    {
      "cell_type": "code",
      "metadata": {
        "id": "8mpDju7BTe-j"
      },
      "source": [
        "\n"
      ],
      "execution_count": null,
      "outputs": []
    }
  ]
}